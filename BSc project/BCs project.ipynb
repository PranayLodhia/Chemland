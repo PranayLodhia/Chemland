{
 "cells": [
  {
   "cell_type": "code",
   "execution_count": 1,
   "metadata": {
    "collapsed": true
   },
   "outputs": [
    {
     "name": "stderr",
     "output_type": "stream",
     "text": [
      "C:\\Users\\lodhp\\AppData\\Local\\Temp\\ipykernel_12496\\2494827738.py:2: UserWarning: \n",
      "The dash_core_components package is deprecated. Please replace\n",
      "`import dash_core_components as dcc` with `from dash import dcc`\n",
      "  import dash_core_components as dcc\n",
      "C:\\Users\\lodhp\\AppData\\Local\\Temp\\ipykernel_12496\\2494827738.py:3: UserWarning: \n",
      "The dash_html_components package is deprecated. Please replace\n",
      "`import dash_html_components as html` with `from dash import html`\n",
      "  import dash_html_components as html\n"
     ]
    }
   ],
   "source": [
    "import dash\n",
    "import dash_core_components as dcc\n",
    "import dash_html_components as html\n",
    "import plotly.express as px\n",
    "import pandas as pd\n",
    "from dash import Input, Output\n",
    "import py3Dmol\n",
    "from dash import Dash, dcc, html\n",
    "from dash.dependencies import Input, Output\n",
    "import jupyterlab_dash\n",
    "from jupyterlab_dash import AppViewer"
   ]
  },
  {
   "cell_type": "code",
   "execution_count": 3,
   "outputs": [
    {
     "ename": "OSError",
     "evalue": "Unfortunately, the jupyterlab-dash extension is not yet\ncompatible with Windows",
     "output_type": "error",
     "traceback": [
      "\u001B[1;31m---------------------------------------------------------------------------\u001B[0m",
      "\u001B[1;31mOSError\u001B[0m                                   Traceback (most recent call last)",
      "Cell \u001B[1;32mIn [3], line 1\u001B[0m\n\u001B[1;32m----> 1\u001B[0m viewer \u001B[38;5;241m=\u001B[39m jupyterlab_dash\u001B[38;5;241m.\u001B[39mAppViewer()\n\u001B[0;32m      2\u001B[0m app \u001B[38;5;241m=\u001B[39m dash\u001B[38;5;241m.\u001B[39mDash(\u001B[38;5;18m__name__\u001B[39m, )\n\u001B[0;32m      3\u001B[0m \u001B[38;5;66;03m#--------------------------------------------------------\u001B[39;00m\n\u001B[0;32m      4\u001B[0m \u001B[38;5;66;03m#import data\u001B[39;00m\n\u001B[0;32m      5\u001B[0m \n\u001B[0;32m      6\u001B[0m \n\u001B[0;32m      7\u001B[0m \u001B[38;5;66;03m#-------------------------------------------------------\u001B[39;00m\n\u001B[0;32m      8\u001B[0m \u001B[38;5;66;03m#app layout\u001B[39;00m\n",
      "File \u001B[1;32mc:\\users\\lodhp\\pycharmprojects\\pythonproject1\\venv\\lib\\site-packages\\jupyterlab_dash\\__init__.py:33\u001B[0m, in \u001B[0;36mAppViewer.__init__\u001B[1;34m(self, host, port)\u001B[0m\n\u001B[0;32m     30\u001B[0m     \u001B[38;5;28;01mdef\u001B[39;00m \u001B[38;5;21m__init__\u001B[39m(\u001B[38;5;28mself\u001B[39m, host\u001B[38;5;241m=\u001B[39m\u001B[38;5;124m'\u001B[39m\u001B[38;5;124mlocalhost\u001B[39m\u001B[38;5;124m'\u001B[39m, port\u001B[38;5;241m=\u001B[39m\u001B[38;5;28;01mNone\u001B[39;00m):\n\u001B[0;32m     32\u001B[0m         \u001B[38;5;28;01mif\u001B[39;00m platform\u001B[38;5;241m.\u001B[39msystem() \u001B[38;5;241m==\u001B[39m \u001B[38;5;124m'\u001B[39m\u001B[38;5;124mWindows\u001B[39m\u001B[38;5;124m'\u001B[39m:\n\u001B[1;32m---> 33\u001B[0m             \u001B[38;5;28;01mraise\u001B[39;00m \u001B[38;5;167;01mOSError\u001B[39;00m(\u001B[38;5;124m\"\"\"\u001B[39m\u001B[38;5;130;01m\\\u001B[39;00m\n\u001B[0;32m     34\u001B[0m \u001B[38;5;124mUnfortunately, the jupyterlab-dash extension is not yet\u001B[39m\n\u001B[0;32m     35\u001B[0m \u001B[38;5;124mcompatible with Windows\u001B[39m\u001B[38;5;124m\"\"\"\u001B[39m)\n\u001B[0;32m     37\u001B[0m         \u001B[38;5;28mself\u001B[39m\u001B[38;5;241m.\u001B[39mserver_process \u001B[38;5;241m=\u001B[39m \u001B[38;5;28;01mNone\u001B[39;00m\n\u001B[0;32m     38\u001B[0m         \u001B[38;5;28mself\u001B[39m\u001B[38;5;241m.\u001B[39muid \u001B[38;5;241m=\u001B[39m \u001B[38;5;28mstr\u001B[39m(uuid\u001B[38;5;241m.\u001B[39muuid4())\n",
      "\u001B[1;31mOSError\u001B[0m: Unfortunately, the jupyterlab-dash extension is not yet\ncompatible with Windows"
     ]
    }
   ],
   "source": [
    "viewer = jupyterlab_dash.AppViewer()\n",
    "app = dash.Dash(__name__, )\n",
    "#--------------------------------------------------------\n",
    "#import data\n",
    "\n",
    "\n",
    "#-------------------------------------------------------\n",
    "#app layout\n",
    "\n",
    "tab1 = html.Div([\n",
    "    html.H3('Tab 1'),\n",
    "    dcc.Dropdown(\n",
    "        id='input',\n",
    "        options=[\n",
    "            {'label': 'How tow to assign NMR', 'value': 'this '},\n",
    "            {'label': 'Practice question', 'value': 'this'},\n",
    "        ],\n",
    "\n",
    "    ),\n",
    "    html.Div(id='output'),\n",
    "])\n",
    "\n",
    "tab2 = html.Div([\n",
    "    html.H3('Tab 2'),\n",
    "    dcc.Dropdown(\n",
    "        id='my-input',\n",
    "        options=[\n",
    "            {'label': ' Welcome to CH2200', 'value': 'In this section we will cover the basics of Spectrocopy'},\n",
    "            {'label': 'b ', 'value': 'physics'},\n",
    "        ],\n",
    "\n",
    "    ),\n",
    "\n",
    "    html.Div(id='my-output'),\n",
    "])\n",
    "\n",
    "app.layout = html.Div([\n",
    "    html.H1('Pranay Lodhia BSc Project'),\n",
    "    dcc.Tabs(id='tabs', value='1', children=[\n",
    "        dcc.Tab(\n",
    "            label='NMR',\n",
    "            value='1',\n",
    "            children=[\n",
    "                tab1,\n",
    "                dcc.Textarea(\n",
    "                    id=\"example\",\n",
    "                    value=\"example1\",\n",
    "                    style={\"width\": \"50%\", \"height\": 300},\n",
    "                    disabled=True,\n",
    "\n",
    "\n",
    "                )]),\n",
    "\n",
    "\n",
    "\n",
    "        dcc.Tab(\n",
    "            label='Spectroscopy',\n",
    "            value='2',\n",
    "            children=[\n",
    "                tab2,\n",
    "                dcc.Textarea(\n",
    "                    id=\"test\",\n",
    "                    value=\"testrun\",\n",
    "                    style={\"width\": \"50%\", \"height\": 300}\n",
    "                )]),\n",
    "            ])\n",
    "        ])\n",
    "\n",
    "@app.callback(\n",
    "    Output(\"test\", \"value\"),\n",
    "    Input(\"my-input\", \"value\")\n",
    ")\n",
    "@app.callback(\n",
    "    Output(\"example\", \"value\"),\n",
    "    Input(\"input\", \"value\")\n",
    ")\n",
    "\n",
    "def update_textarea(input_value):\n",
    "    return f'Dropdown says: {input_value}'\n",
    "\n",
    "\n",
    "#-------------------\n",
    "if __name__ == '__main__':\n",
    "    viewer.show(app)\n"
   ],
   "metadata": {
    "collapsed": false
   }
  },
  {
   "cell_type": "code",
   "execution_count": null,
   "outputs": [],
   "source": [],
   "metadata": {
    "collapsed": false
   }
  }
 ],
 "metadata": {
  "kernelspec": {
   "display_name": "Python 3",
   "language": "python",
   "name": "python3"
  },
  "language_info": {
   "codemirror_mode": {
    "name": "ipython",
    "version": 2
   },
   "file_extension": ".py",
   "mimetype": "text/x-python",
   "name": "python",
   "nbconvert_exporter": "python",
   "pygments_lexer": "ipython2",
   "version": "2.7.6"
  }
 },
 "nbformat": 4,
 "nbformat_minor": 0
}
