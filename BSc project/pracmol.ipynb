{
 "cells": [
  {
   "cell_type": "code",
   "execution_count": 1,
   "metadata": {
    "collapsed": true
   },
   "outputs": [],
   "source": [
    "import py3Dmol"
   ]
  },
  {
   "cell_type": "code",
   "execution_count": 2,
   "outputs": [
    {
     "data": {
      "application/3dmoljs_load.v0": "<div id=\"3dmolviewer_16669587369034953\"  style=\"position: relative; width: 640px; height: 480px\">\n        <p id=\"3dmolwarning_16669587369034953\" style=\"background-color:#ffcccc;color:black\">You appear to be running in JupyterLab (or JavaScript failed to load for some other reason).  You need to install the 3dmol extension: <br>\n        <tt>jupyter labextension install jupyterlab_3dmol</tt></p>\n        </div>\n<script>\n\nvar loadScriptAsync = function(uri){\n  return new Promise((resolve, reject) => {\n    var tag = document.createElement('script');\n    tag.src = uri;\n    tag.async = true;\n    tag.onload = () => {\n      resolve();\n    };\n  var firstScriptTag = document.getElementsByTagName('script')[0];\n  firstScriptTag.parentNode.insertBefore(tag, firstScriptTag);\n});\n};\n\nif(typeof $3Dmolpromise === 'undefined') {\n$3Dmolpromise = null;\n  $3Dmolpromise = loadScriptAsync('https://cdn.jsdelivr.net/npm/3dmol@latest/build/3Dmol-min.min.js');\n}\n\nvar viewer_16669587369034953 = null;\nvar warn = document.getElementById(\"3dmolwarning_16669587369034953\");\nif(warn) {\n    warn.parentNode.removeChild(warn);\n}\n$3Dmolpromise.then(function() {\nviewer_16669587369034953 = $3Dmol.createViewer($(\"#3dmolviewer_16669587369034953\"),{backgroundColor:\"white\"});\n$3Dmol.download(\"cid:866\", viewer_16669587369034953, {}, function() {\nviewer_16669587369034953.zoomTo();\n\tviewer_16669587369034953.setStyle({\"stick\": {\"radius\": 0.1}, \"sphere\": {\"scale\": 0.2}});\nviewer_16669587369034953.render();\n})\n});\n</script>",
      "text/html": "<div id=\"3dmolviewer_16669587369034953\"  style=\"position: relative; width: 640px; height: 480px\">\n        <p id=\"3dmolwarning_16669587369034953\" style=\"background-color:#ffcccc;color:black\">You appear to be running in JupyterLab (or JavaScript failed to load for some other reason).  You need to install the 3dmol extension: <br>\n        <tt>jupyter labextension install jupyterlab_3dmol</tt></p>\n        </div>\n<script>\n\nvar loadScriptAsync = function(uri){\n  return new Promise((resolve, reject) => {\n    var tag = document.createElement('script');\n    tag.src = uri;\n    tag.async = true;\n    tag.onload = () => {\n      resolve();\n    };\n  var firstScriptTag = document.getElementsByTagName('script')[0];\n  firstScriptTag.parentNode.insertBefore(tag, firstScriptTag);\n});\n};\n\nif(typeof $3Dmolpromise === 'undefined') {\n$3Dmolpromise = null;\n  $3Dmolpromise = loadScriptAsync('https://cdn.jsdelivr.net/npm/3dmol@latest/build/3Dmol-min.min.js');\n}\n\nvar viewer_16669587369034953 = null;\nvar warn = document.getElementById(\"3dmolwarning_16669587369034953\");\nif(warn) {\n    warn.parentNode.removeChild(warn);\n}\n$3Dmolpromise.then(function() {\nviewer_16669587369034953 = $3Dmol.createViewer($(\"#3dmolviewer_16669587369034953\"),{backgroundColor:\"white\"});\n$3Dmol.download(\"cid:866\", viewer_16669587369034953, {}, function() {\nviewer_16669587369034953.zoomTo();\n\tviewer_16669587369034953.setStyle({\"stick\": {\"radius\": 0.1}, \"sphere\": {\"scale\": 0.2}});\nviewer_16669587369034953.render();\n})\n});\n</script>"
     },
     "metadata": {},
     "output_type": "display_data"
    }
   ],
   "source": [
    "# Lookup a molecule using its CID (PubChem Compound Identification) code\n",
    "p=py3Dmol.view(query='cid:866')\n",
    "\n",
    "# Set the render style\n",
    "p.setStyle({'stick': {'radius': .1}, 'sphere': {'scale': 0.2}})\n",
    "p.show()"
   ],
   "metadata": {
    "collapsed": false
   }
  },
  {
   "cell_type": "code",
   "execution_count": 3,
   "outputs": [
    {
     "data": {
      "application/3dmoljs_load.v0": "<div id=\"3dmolviewer_16666033020922666\"  style=\"position: relative; width: 640px; height: 480px\">\n        <p id=\"3dmolwarning_16666033020922666\" style=\"background-color:#ffcccc;color:black\">You appear to be running in JupyterLab (or JavaScript failed to load for some other reason).  You need to install the 3dmol extension: <br>\n        <tt>jupyter labextension install jupyterlab_3dmol</tt></p>\n        </div>\n<script>\n\nvar loadScriptAsync = function(uri){\n  return new Promise((resolve, reject) => {\n    var tag = document.createElement('script');\n    tag.src = uri;\n    tag.async = true;\n    tag.onload = () => {\n      resolve();\n    };\n  var firstScriptTag = document.getElementsByTagName('script')[0];\n  firstScriptTag.parentNode.insertBefore(tag, firstScriptTag);\n});\n};\n\nif(typeof $3Dmolpromise === 'undefined') {\n$3Dmolpromise = null;\n  $3Dmolpromise = loadScriptAsync('https://cdn.jsdelivr.net/npm/3dmol@latest/build/3Dmol-min.min.js');\n}\n\nvar viewer_16666033020922666 = null;\nvar warn = document.getElementById(\"3dmolwarning_16666033020922666\");\nif(warn) {\n    warn.parentNode.removeChild(warn);\n}\n$3Dmolpromise.then(function() {\nviewer_16666033020922666 = $3Dmol.createViewer($(\"#3dmolviewer_16666033020922666\"),{backgroundColor:\"white\"});\n$3Dmol.download(\"cid:241\", viewer_16666033020922666, {}, function() {\nviewer_16666033020922666.zoomTo();\n\tviewer_16666033020922666.setStyle({\"stick\": {\"radius\": 0.1}, \"sphere\": {\"scale\": 0.25}});\nviewer_16666033020922666.render();\n})\n});\n</script>",
      "text/html": "<div id=\"3dmolviewer_16666033020922666\"  style=\"position: relative; width: 640px; height: 480px\">\n        <p id=\"3dmolwarning_16666033020922666\" style=\"background-color:#ffcccc;color:black\">You appear to be running in JupyterLab (or JavaScript failed to load for some other reason).  You need to install the 3dmol extension: <br>\n        <tt>jupyter labextension install jupyterlab_3dmol</tt></p>\n        </div>\n<script>\n\nvar loadScriptAsync = function(uri){\n  return new Promise((resolve, reject) => {\n    var tag = document.createElement('script');\n    tag.src = uri;\n    tag.async = true;\n    tag.onload = () => {\n      resolve();\n    };\n  var firstScriptTag = document.getElementsByTagName('script')[0];\n  firstScriptTag.parentNode.insertBefore(tag, firstScriptTag);\n});\n};\n\nif(typeof $3Dmolpromise === 'undefined') {\n$3Dmolpromise = null;\n  $3Dmolpromise = loadScriptAsync('https://cdn.jsdelivr.net/npm/3dmol@latest/build/3Dmol-min.min.js');\n}\n\nvar viewer_16666033020922666 = null;\nvar warn = document.getElementById(\"3dmolwarning_16666033020922666\");\nif(warn) {\n    warn.parentNode.removeChild(warn);\n}\n$3Dmolpromise.then(function() {\nviewer_16666033020922666 = $3Dmol.createViewer($(\"#3dmolviewer_16666033020922666\"),{backgroundColor:\"white\"});\n$3Dmol.download(\"cid:241\", viewer_16666033020922666, {}, function() {\nviewer_16666033020922666.zoomTo();\n\tviewer_16666033020922666.setStyle({\"stick\": {\"radius\": 0.1}, \"sphere\": {\"scale\": 0.25}});\nviewer_16666033020922666.render();\n})\n});\n</script>"
     },
     "metadata": {},
     "output_type": "display_data"
    }
   ],
   "source": [
    "# Lookup a molecule using its CID (PubChem Compound Identification) code\n",
    "p=py3Dmol.view(query='cid:241')\n",
    "\n",
    "# Set the render style\n",
    "p.setStyle({'stick': {'radius': .1}, 'sphere': {'scale': 0.25}})\n",
    "p.show()"
   ],
   "metadata": {
    "collapsed": false
   }
  },
  {
   "cell_type": "code",
   "execution_count": null,
   "outputs": [],
   "source": [],
   "metadata": {
    "collapsed": false
   }
  }
 ],
 "metadata": {
  "kernelspec": {
   "display_name": "Python 3",
   "language": "python",
   "name": "python3"
  },
  "language_info": {
   "codemirror_mode": {
    "name": "ipython",
    "version": 2
   },
   "file_extension": ".py",
   "mimetype": "text/x-python",
   "name": "python",
   "nbconvert_exporter": "python",
   "pygments_lexer": "ipython2",
   "version": "2.7.6"
  }
 },
 "nbformat": 4,
 "nbformat_minor": 0
}
